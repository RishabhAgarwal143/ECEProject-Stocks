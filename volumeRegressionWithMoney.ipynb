{
 "cells": [
  {
   "cell_type": "code",
   "execution_count": 129,
   "metadata": {},
   "outputs": [],
   "source": [
    "import numpy as np\n",
    "from sklearn import datasets\n",
    "from sklearn.linear_model import LinearRegression\n",
    "from sklearn.model_selection import train_test_split\n",
    "from sklearn.metrics import mean_squared_error, r2_score\n",
    "import pandas as p\n",
    "from datetime import datetime as dt\n",
    "import matplotlib.pyplot as plt\n",
    "from pandas_ta import ema"
   ]
  },
  {
   "cell_type": "markdown",
   "metadata": {},
   "source": [
    "Import data."
   ]
  },
  {
   "cell_type": "code",
   "execution_count": 130,
   "metadata": {},
   "outputs": [
    {
     "name": "stdout",
     "output_type": "stream",
     "text": [
      "         Date      Open      High       Low     Close  Adj Close     Volume\n",
      "0  1980-12-12  0.128348  0.128906  0.128348  0.128348   0.100178  469033600\n",
      "1  1980-12-15  0.122210  0.122210  0.121652  0.121652   0.094952  175884800\n",
      "2  1980-12-16  0.113281  0.113281  0.112723  0.112723   0.087983  105728000\n",
      "3  1980-12-17  0.115513  0.116071  0.115513  0.115513   0.090160   86441600\n",
      "4  1980-12-18  0.118862  0.119420  0.118862  0.118862   0.092774   73449600\n"
     ]
    }
   ],
   "source": [
    "input_file = \"AAPL.csv\"\n",
    "data_price = p.read_csv(input_file)\n",
    "data_volume = p.read_csv(input_file)\n",
    "\n",
    "print(data_price.head())"
   ]
  },
  {
   "cell_type": "code",
   "execution_count": 131,
   "metadata": {},
   "outputs": [],
   "source": [
    "data_price.set_index(p.DatetimeIndex(data_price['Date']), inplace=True)\n",
    "data_volume.set_index(p.DatetimeIndex(data_volume['Date']), inplace=True)\n",
    "data_price = data_price[[\"Open\"]]\n",
    "data_volume = data_volume[[\"Volume\"]]"
   ]
  },
  {
   "cell_type": "code",
   "execution_count": 132,
   "metadata": {},
   "outputs": [
    {
     "name": "stdout",
     "output_type": "stream",
     "text": [
      "                  Open     EMA_100\n",
      "Date                              \n",
      "1980-12-12    0.128348         NaN\n",
      "1980-12-15    0.122210         NaN\n",
      "1980-12-16    0.113281         NaN\n",
      "1980-12-17    0.115513         NaN\n",
      "1980-12-18    0.118862         NaN\n",
      "...                ...         ...\n",
      "2022-05-31  149.070007  159.071790\n",
      "2022-06-01  149.899994  158.890170\n",
      "2022-06-02  147.830002  158.671157\n",
      "2022-06-03  146.899994  158.438065\n",
      "2022-06-06  147.029999  158.212162\n",
      "\n",
      "[10459 rows x 2 columns]\n",
      "               Volume       EMA_100\n",
      "Date                               \n",
      "1980-12-12  469033600           NaN\n",
      "1980-12-15  175884800           NaN\n",
      "1980-12-16  105728000           NaN\n",
      "1980-12-17   86441600           NaN\n",
      "1980-12-18   73449600           NaN\n",
      "...               ...           ...\n",
      "2022-05-31  103718400  9.877867e+07\n",
      "2022-06-01   74286600  9.829368e+07\n",
      "2022-06-02   72348100  9.777991e+07\n",
      "2022-06-03   88471400  9.759558e+07\n",
      "2022-06-06   71490300  9.707864e+07\n",
      "\n",
      "[10459 rows x 2 columns]\n"
     ]
    }
   ],
   "source": [
    "data_price.ta.ema(close=\"open\", length = 100, append = True)\n",
    "data_volume.ta.ema(close=\"volume\", length = 100, append = True)\n",
    "print(data_price)\n",
    "print(data_volume)\n"
   ]
  },
  {
   "cell_type": "code",
   "execution_count": 133,
   "metadata": {},
   "outputs": [
    {
     "name": "stdout",
     "output_type": "stream",
     "text": [
      "                  Open     EMA_100\n",
      "Date                              \n",
      "1981-05-07    0.123884    0.124994\n",
      "1981-05-08    0.125000    0.124994\n",
      "1981-05-11    0.122768    0.124950\n",
      "1981-05-12    0.122210    0.124896\n",
      "1981-05-13    0.122210    0.124843\n",
      "...                ...         ...\n",
      "2022-05-31  149.070007  159.071790\n",
      "2022-06-01  149.899994  158.890170\n",
      "2022-06-02  147.830002  158.671157\n",
      "2022-06-03  146.899994  158.438065\n",
      "2022-06-06  147.029999  158.212162\n",
      "\n",
      "[10359 rows x 2 columns]\n",
      "                 EMA_100  Open  Volume\n",
      "Date                                  \n",
      "1981-05-07  4.410089e+06   NaN     NaN\n",
      "1981-05-08  4.342336e+06   NaN     NaN\n",
      "1981-05-11  4.284389e+06   NaN     NaN\n",
      "1981-05-12  4.208252e+06   NaN     NaN\n",
      "1981-05-13  4.135291e+06   NaN     NaN\n",
      "...                  ...   ...     ...\n",
      "2022-05-31  1.571290e+10   NaN     NaN\n",
      "2022-06-01  1.561790e+10   NaN     NaN\n",
      "2022-06-02  1.551485e+10   NaN     NaN\n",
      "2022-06-03  1.546285e+10   NaN     NaN\n",
      "2022-06-06  1.535902e+10   NaN     NaN\n",
      "\n",
      "[10359 rows x 3 columns]\n"
     ]
    }
   ],
   "source": [
    "#remove n rows\n",
    "n = 100\n",
    "data_price = data_price.iloc[n:]\n",
    "data_volume = data_volume.iloc[n:]\n",
    "print(data_price)\n",
    "print(data_volume)\n",
    "\n",
    "data_money = data_volume.mul(data_price, axis=0)\n",
    "print(data_money)"
   ]
  },
  {
   "cell_type": "code",
   "execution_count": 134,
   "metadata": {},
   "outputs": [
    {
     "data": {
      "image/png": "[encoded data removed]",
      "text/plain": [
       "<Figure size 432x288 with 1 Axes>"
      ]
     },
     "metadata": {
      "needs_background": "light"
     },
     "output_type": "display_data"
    }
   ],
   "source": [
    "#Actual Plot\n",
    "plt.plot(data[[\"EMA_100\"]])\n",
    "plt.xlabel(\"Dates\")\n",
    "plt.ylabel(\"EMA Volume\")\n",
    "plt.title(\"Apple Stock - EMA Volume versus Date\")\n",
    "\n",
    "#Create line plots for recessions\n",
    "data_used = data[[\"EMA_100\"]]\n",
    "black_monday_1980 = data_used[\"1987-07-01\":\"1988-03-01\"]\n",
    "plt.plot(black_monday_1980, c = \"red\")\n",
    "\n",
    "recession_1990s = data_used[\"1990-06-01\":\"1991-05-01\"]\n",
    "plt.plot(recession_1990s, c = \"purple\")\n",
    "\n",
    "dot_cot_bubble = data_used[\"1995-01-01\":\"2002-12-31\"]\n",
    "plt.plot(dot_cot_bubble, c=\"green\")\n",
    "\n",
    "financial_crisis_2008 = data_used[\"2007-01-01\":\"2009-6-1\"]\n",
    "plt.plot(financial_crisis_2008, c = \"orange\")\n",
    "\n",
    "corona = data_used[\"2020-01-01\":]\n",
    "plt.plot(corona, c = \"black\")\n",
    "\n",
    "recessions = [\"EMA 100\", \"Black Monday\", \"1990s Recession\", \n",
    "\"Dot-Com Bubble\", \"2007-2008 Finacial Crisis\", \"Coronavirus Lockdown\"]\n",
    "plt.legend(recessions)\n",
    "\n",
    "plt.show()"
   ]
  },
  {
   "cell_type": "code",
   "execution_count": 135,
   "metadata": {},
   "outputs": [
    {
     "data": {
      "image/png": "[encoded data removed]",
      "text/plain": [
       "<Figure size 432x288 with 1 Axes>"
      ]
     },
     "metadata": {
      "needs_background": "light"
     },
     "output_type": "display_data"
    }
   ],
   "source": [
    "\n",
    "plt.plot(data[[\"Adj Close\"]])\n",
    "plt.xlabel(\"Dates\")\n",
    "plt.ylabel(\"Volume\")\n",
    "plt.title(\"Apple Stock - Volume versus Date\")\n",
    "plt.show()"
   ]
  }
 ],
 "metadata": {
  "kernelspec": {
   "display_name": "Python 3.9.7 64-bit",
   "language": "python",
   "name": "python3"
  },
  "language_info": {
   "codemirror_mode": {
    "name": "ipython",
    "version": 3
   },
   "file_extension": ".py",
   "mimetype": "text/x-python",
   "name": "python",
   "nbconvert_exporter": "python",
   "pygments_lexer": "ipython3",
   "version": "3.9.7"
  },
  "orig_nbformat": 4,
  "vscode": {
   "interpreter": {
    "hash": "a2d250bd2ffc9762c8abd3672c3bf48ef4c52509e4a1bd2df1196465cfb0c5ae"
   }
  }
 },
 "nbformat": 4,
 "nbformat_minor": 2
}
